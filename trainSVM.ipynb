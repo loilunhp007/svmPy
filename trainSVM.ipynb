{
 "cells": [
  {
   "cell_type": "markdown",
   "metadata": {},
   "source": []
  },
  {
   "cell_type": "code",
   "execution_count": 34,
   "metadata": {},
   "outputs": [
    {
     "name": "stdout",
     "output_type": "stream",
     "text": [
      "./data\\animal\\cho1.jpg\n",
      "./data\\animal\\cho10.jpg\n",
      "./data\\animal\\cho11.jpg\n",
      "./data\\animal\\cho12.jpg\n",
      "./data\\animal\\cho13.jpg\n",
      "./data\\animal\\cho14.jpg\n",
      "./data\\animal\\cho2.jpg\n",
      "./data\\animal\\cho3.jpg\n",
      "./data\\animal\\cho4.jpg\n",
      "./data\\animal\\cho5.jpg\n",
      "./data\\animal\\cho6.jpg\n",
      "./data\\animal\\cho7.jpg\n",
      "./data\\animal\\cho8.jpg\n",
      "./data\\animal\\cho9.jpg\n",
      "./data\\animal\\chuot1.jpg\n",
      "./data\\animal\\chuot10.jpg\n",
      "./data\\animal\\chuot2.jpg\n",
      "./data\\animal\\chuot3.jpg\n",
      "./data\\animal\\chuot4.jpg\n",
      "./data\\animal\\chuot5.jpg\n",
      "./data\\animal\\chuot6.jpg\n",
      "./data\\animal\\chuot7.jpg\n",
      "./data\\animal\\chuot8.jpg\n",
      "./data\\animal\\chuot9.jpg\n",
      "./data\\animal\\meo1.jpg\n",
      "./data\\animal\\meo10.jpg\n",
      "./data\\animal\\meo11.jpg\n",
      "./data\\animal\\meo12.jpg\n",
      "./data\\animal\\meo13.jpg\n",
      "./data\\animal\\meo2.jpg\n",
      "./data\\animal\\meo3.jpg\n",
      "./data\\animal\\meo4.jpg\n",
      "./data\\animal\\meo5.jpg\n",
      "./data\\animal\\meo6.jpg\n",
      "./data\\animal\\meo7.jpg\n",
      "./data\\animal\\meo8.jpg\n",
      "./data\\animal\\meo9.jpg\n",
      "./data\\plant\\hong1.jpg\n",
      "./data\\plant\\hong10.jpg\n",
      "./data\\plant\\hong11.jpg\n",
      "./data\\plant\\hong12.jpg\n",
      "./data\\plant\\hong13.jpg\n",
      "./data\\plant\\hong2.jpg\n",
      "./data\\plant\\hong3.jpg\n",
      "./data\\plant\\hong4.jpg\n",
      "./data\\plant\\hong5.jpg\n",
      "./data\\plant\\hong6.jpg\n",
      "./data\\plant\\hong8.jpg\n",
      "./data\\plant\\hong9.jpg\n",
      "./data\\plant\\huongduong1.jpg\n",
      "./data\\plant\\huongduong10.jpg\n",
      "./data\\plant\\huongduong11.jpg\n",
      "./data\\plant\\huongduong12.jpg\n",
      "./data\\plant\\huongduong13.jpg\n",
      "./data\\plant\\huongduong14.jpg\n",
      "./data\\plant\\huongduong2.jpg\n",
      "./data\\plant\\huongduong3.jpg\n",
      "./data\\plant\\huongduong4.jpg\n",
      "./data\\plant\\huongduong5.jpg\n",
      "./data\\plant\\huongduong6.jpg\n",
      "./data\\plant\\huongduong7.jpg\n",
      "./data\\plant\\huongduong8.jpg\n",
      "./data\\plant\\huongduong9.jpg\n",
      "./data\\plant\\mai1.jpg\n",
      "./data\\plant\\mai10.jpg\n",
      "./data\\plant\\mai11.jpg\n",
      "./data\\plant\\mai12.jpg\n",
      "./data\\plant\\mai13.jpg\n",
      "./data\\plant\\mai2.jpg\n",
      "./data\\plant\\mai3.jpg\n",
      "./data\\plant\\mai4.jpg\n",
      "./data\\plant\\mai5.jpg\n",
      "./data\\plant\\mai6.jpg\n",
      "./data\\plant\\mai7.jpg\n",
      "./data\\plant\\mai8.jpg\n",
      "./data\\plant\\mai8.png\n",
      "./data\\plant\\mai9.jpg\n"
     ]
    }
   ],
   "source": [
    "#import library \n",
    "import numpy as np \n",
    "import pandas as pd \n",
    "\n",
    "import tensorflow as tf\n",
    "from tensorflow.keras.preprocessing.image import ImageDataGenerator\n",
    "from tensorflow.keras import Sequential\n",
    "from tensorflow.keras.layers import Conv2D,Dense,MaxPool2D,Flatten\n",
    "from tensorflow.keras.regularizers import l2\n",
    "import os\n",
    "for dirname, _, filenames in os.walk('./data'):\n",
    "    for filename in filenames:\n",
    "        print(os.path.join(dirname, filename)) \n"
   ]
  },
  {
   "cell_type": "code",
   "execution_count": 35,
   "metadata": {},
   "outputs": [
    {
     "data": {
      "text/plain": [
       "['animal', 'plant']"
      ]
     },
     "execution_count": 35,
     "metadata": {},
     "output_type": "execute_result"
    }
   ],
   "source": [
    "#data folder\n",
    "data_dir  = \"./data\"\n",
    "test_dir = \"./test\"\n",
    "#check label classification \n",
    "os.listdir(data_dir)"
   ]
  },
  {
   "cell_type": "code",
   "execution_count": 36,
   "metadata": {},
   "outputs": [
    {
     "name": "stdout",
     "output_type": "stream",
     "text": [
      "Found 77 images belonging to 2 classes.\n",
      "Found 0 images belonging to 0 classes.\n"
     ]
    }
   ],
   "source": [
    "train_datagen = ImageDataGenerator(rescale=(1/255.),shear_range = 0.2,zoom_range=0.2,\n",
    "                                   horizontal_flip=True)\n",
    "#images to train\n",
    "trainning_data_set =  train_datagen.flow_from_directory(directory = data_dir,target_size=(64,64),\n",
    "                                                batch_size=32,\n",
    "                                                class_mode = \"binary\")\n",
    "test_datagen = ImageDataGenerator(rescale=(1/255.))\n",
    "test_set = test_datagen.flow_from_directory(directory = test_dir,target_size=(64,64),\n",
    "                                                batch_size=32,\n",
    "                                                class_mode = \"binary\")\n"
   ]
  },
  {
   "cell_type": "code",
   "execution_count": 37,
   "metadata": {},
   "outputs": [],
   "source": [
    "from tensorflow.keras import Sequential\n",
    "from tensorflow.keras.layers import Conv2D,Dense,MaxPool2D,Flatten\n",
    "from tensorflow.keras.regularizers import l2\n",
    "\n",
    "model = Sequential()\n",
    "model.add(Conv2D(filters = 32, padding = \"same\",activation = \"relu\",kernel_size=3, strides = 2,input_shape=(64,64,3)))\n",
    "model.add(MaxPool2D(pool_size=(2,2),strides = 2))\n",
    "\n",
    "model.add(Conv2D(filters = 32, padding = \"same\",activation = \"relu\",kernel_size=3))\n",
    "model.add(MaxPool2D(pool_size=(2,2),strides = 2))\n",
    "\n",
    "model.add(Flatten())\n",
    "model.add(Dense(128,activation=\"relu\"))\n",
    "\n",
    "#Output layer\n",
    "model.add(Dense(1,kernel_regularizer=l2(0.01),activation = \"linear\"))"
   ]
  },
  {
   "cell_type": "code",
   "execution_count": 38,
   "metadata": {},
   "outputs": [],
   "source": [
    "#model.add(Dense(number_of_classes,kernel_regularizers = l2(0.01),activation= \"softmax\"))\n",
    "model.compile(optimizer=\"adam\",loss=\"squared_hinge\", metrics = ['accuracy'])"
   ]
  },
  {
   "cell_type": "code",
   "execution_count": 40,
   "metadata": {},
   "outputs": [
    {
     "name": "stdout",
     "output_type": "stream",
     "text": [
      "Epoch 1/20\n",
      "3/3 [==============================] - 2s 253ms/step - loss: 0.2687 - accuracy: 0.9351\n",
      "Epoch 2/20\n",
      "3/3 [==============================] - 1s 331ms/step - loss: 0.4387 - accuracy: 0.7662\n",
      "Epoch 3/20\n",
      "3/3 [==============================] - 1s 298ms/step - loss: 0.1987 - accuracy: 0.9221\n",
      "Epoch 4/20\n",
      "3/3 [==============================] - 1s 244ms/step - loss: 0.3521 - accuracy: 0.8831\n",
      "Epoch 5/20\n",
      "3/3 [==============================] - 1s 360ms/step - loss: 0.2212 - accuracy: 0.9351\n",
      "Epoch 6/20\n",
      "3/3 [==============================] - 1s 336ms/step - loss: 0.1533 - accuracy: 0.9351\n",
      "Epoch 7/20\n",
      "3/3 [==============================] - 1s 311ms/step - loss: 0.2074 - accuracy: 0.8831\n",
      "Epoch 8/20\n",
      "3/3 [==============================] - 1s 225ms/step - loss: 0.1391 - accuracy: 0.9221\n",
      "Epoch 9/20\n",
      "3/3 [==============================] - 1s 232ms/step - loss: 0.1448 - accuracy: 0.9740\n",
      "Epoch 10/20\n",
      "3/3 [==============================] - 1s 212ms/step - loss: 0.1108 - accuracy: 0.9610\n",
      "Epoch 11/20\n",
      "3/3 [==============================] - 1s 210ms/step - loss: 0.1069 - accuracy: 0.9481\n",
      "Epoch 12/20\n",
      "3/3 [==============================] - 1s 221ms/step - loss: 0.1028 - accuracy: 0.9740\n",
      "Epoch 13/20\n",
      "3/3 [==============================] - 1s 258ms/step - loss: 0.1108 - accuracy: 0.9740\n",
      "Epoch 14/20\n",
      "3/3 [==============================] - 1s 230ms/step - loss: 0.1043 - accuracy: 0.9610\n",
      "Epoch 15/20\n",
      "3/3 [==============================] - 1s 215ms/step - loss: 0.0823 - accuracy: 0.9610\n",
      "Epoch 16/20\n",
      "3/3 [==============================] - 1s 196ms/step - loss: 0.0829 - accuracy: 0.9740\n",
      "Epoch 17/20\n",
      "3/3 [==============================] - 1s 358ms/step - loss: 0.0980 - accuracy: 0.9610\n",
      "Epoch 18/20\n",
      "3/3 [==============================] - 1s 373ms/step - loss: 0.0906 - accuracy: 0.9481\n",
      "Epoch 19/20\n",
      "3/3 [==============================] - 1s 231ms/step - loss: 0.0662 - accuracy: 0.9740\n",
      "Epoch 20/20\n",
      "3/3 [==============================] - 1s 285ms/step - loss: 0.0636 - accuracy: 0.9740\n"
     ]
    },
    {
     "ename": "ValueError",
     "evalue": "Failed to find data adapter that can handle input: <class 'keras.callbacks.History'>, <class 'NoneType'>",
     "output_type": "error",
     "traceback": [
      "\u001b[1;31m---------------------------------------------------------------------------\u001b[0m",
      "\u001b[1;31mValueError\u001b[0m                                Traceback (most recent call last)",
      "\u001b[1;32m~\\AppData\\Local\\Temp\\ipykernel_7476\\2358167835.py\u001b[0m in \u001b[0;36m<module>\u001b[1;34m\u001b[0m\n\u001b[0;32m      7\u001b[0m \u001b[0mhistory\u001b[0m \u001b[1;33m=\u001b[0m \u001b[0mmodel\u001b[0m\u001b[1;33m.\u001b[0m\u001b[0mfit\u001b[0m\u001b[1;33m(\u001b[0m\u001b[0mx\u001b[0m \u001b[1;33m=\u001b[0m \u001b[0mtrainning_data_set\u001b[0m\u001b[1;33m,\u001b[0m\u001b[0mvalidation_data\u001b[0m \u001b[1;33m=\u001b[0m \u001b[0mtest_set\u001b[0m\u001b[1;33m,\u001b[0m\u001b[0mepochs\u001b[0m\u001b[1;33m=\u001b[0m\u001b[1;36m20\u001b[0m\u001b[1;33m)\u001b[0m\u001b[1;33m\u001b[0m\u001b[1;33m\u001b[0m\u001b[0m\n\u001b[0;32m      8\u001b[0m \u001b[1;33m\u001b[0m\u001b[0m\n\u001b[1;32m----> 9\u001b[1;33m \u001b[0mmodel\u001b[0m\u001b[1;33m.\u001b[0m\u001b[0mpredict\u001b[0m\u001b[1;33m(\u001b[0m\u001b[0mhistory\u001b[0m\u001b[1;33m,\u001b[0m\u001b[0mverbose\u001b[0m\u001b[1;33m=\u001b[0m\u001b[1;36m1\u001b[0m\u001b[1;33m)\u001b[0m\u001b[1;33m;\u001b[0m\u001b[1;33m\u001b[0m\u001b[1;33m\u001b[0m\u001b[0m\n\u001b[0m",
      "\u001b[1;32m~\\AppData\\Local\\Packages\\PythonSoftwareFoundation.Python.3.7_qbz5n2kfra8p0\\LocalCache\\local-packages\\Python37\\site-packages\\keras\\utils\\traceback_utils.py\u001b[0m in \u001b[0;36merror_handler\u001b[1;34m(*args, **kwargs)\u001b[0m\n\u001b[0;32m     65\u001b[0m     \u001b[1;32mexcept\u001b[0m \u001b[0mException\u001b[0m \u001b[1;32mas\u001b[0m \u001b[0me\u001b[0m\u001b[1;33m:\u001b[0m  \u001b[1;31m# pylint: disable=broad-except\u001b[0m\u001b[1;33m\u001b[0m\u001b[1;33m\u001b[0m\u001b[0m\n\u001b[0;32m     66\u001b[0m       \u001b[0mfiltered_tb\u001b[0m \u001b[1;33m=\u001b[0m \u001b[0m_process_traceback_frames\u001b[0m\u001b[1;33m(\u001b[0m\u001b[0me\u001b[0m\u001b[1;33m.\u001b[0m\u001b[0m__traceback__\u001b[0m\u001b[1;33m)\u001b[0m\u001b[1;33m\u001b[0m\u001b[1;33m\u001b[0m\u001b[0m\n\u001b[1;32m---> 67\u001b[1;33m       \u001b[1;32mraise\u001b[0m \u001b[0me\u001b[0m\u001b[1;33m.\u001b[0m\u001b[0mwith_traceback\u001b[0m\u001b[1;33m(\u001b[0m\u001b[0mfiltered_tb\u001b[0m\u001b[1;33m)\u001b[0m \u001b[1;32mfrom\u001b[0m \u001b[1;32mNone\u001b[0m\u001b[1;33m\u001b[0m\u001b[1;33m\u001b[0m\u001b[0m\n\u001b[0m\u001b[0;32m     68\u001b[0m     \u001b[1;32mfinally\u001b[0m\u001b[1;33m:\u001b[0m\u001b[1;33m\u001b[0m\u001b[1;33m\u001b[0m\u001b[0m\n\u001b[0;32m     69\u001b[0m       \u001b[1;32mdel\u001b[0m \u001b[0mfiltered_tb\u001b[0m\u001b[1;33m\u001b[0m\u001b[1;33m\u001b[0m\u001b[0m\n",
      "\u001b[1;32m~\\AppData\\Local\\Packages\\PythonSoftwareFoundation.Python.3.7_qbz5n2kfra8p0\\LocalCache\\local-packages\\Python37\\site-packages\\keras\\engine\\data_adapter.py\u001b[0m in \u001b[0;36mselect_data_adapter\u001b[1;34m(x, y)\u001b[0m\n\u001b[0;32m    985\u001b[0m         \u001b[1;34m\"Failed to find data adapter that can handle \"\u001b[0m\u001b[1;33m\u001b[0m\u001b[1;33m\u001b[0m\u001b[0m\n\u001b[0;32m    986\u001b[0m         \"input: {}, {}\".format(\n\u001b[1;32m--> 987\u001b[1;33m             _type_name(x), _type_name(y)))\n\u001b[0m\u001b[0;32m    988\u001b[0m   \u001b[1;32melif\u001b[0m \u001b[0mlen\u001b[0m\u001b[1;33m(\u001b[0m\u001b[0madapter_cls\u001b[0m\u001b[1;33m)\u001b[0m \u001b[1;33m>\u001b[0m \u001b[1;36m1\u001b[0m\u001b[1;33m:\u001b[0m\u001b[1;33m\u001b[0m\u001b[1;33m\u001b[0m\u001b[0m\n\u001b[0;32m    989\u001b[0m     raise RuntimeError(\n",
      "\u001b[1;31mValueError\u001b[0m: Failed to find data adapter that can handle input: <class 'keras.callbacks.History'>, <class 'NoneType'>"
     ]
    }
   ],
   "source": [
    "import sys\n",
    "from PIL import Image\n",
    "sys.modules['Image'] = Image \n",
    "\n",
    "\n",
    "model.compile(optimizer = 'adam', loss = \"hinge\", metrics = ['accuracy'])\n",
    "history = model.fit(x = trainning_data_set,validation_data = test_set,epochs=20)\n",
    "\n",
    "model.predict(history,verbose=1);"
   ]
  },
  {
   "cell_type": "markdown",
   "metadata": {},
   "source": []
  }
 ],
 "metadata": {
  "interpreter": {
   "hash": "3bbd99881637f353e213ac730331a17523fb318c00b13a49474d05f63ab37920"
  },
  "kernelspec": {
   "display_name": "Python 3.7.9 64-bit (windows store)",
   "language": "python",
   "name": "python3"
  },
  "language_info": {
   "codemirror_mode": {
    "name": "ipython",
    "version": 3
   },
   "file_extension": ".py",
   "mimetype": "text/x-python",
   "name": "python",
   "nbconvert_exporter": "python",
   "pygments_lexer": "ipython3",
   "version": "3.7.9"
  },
  "orig_nbformat": 4
 },
 "nbformat": 4,
 "nbformat_minor": 2
}
